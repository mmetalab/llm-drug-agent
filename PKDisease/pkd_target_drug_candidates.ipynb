{
 "cells": [
  {
   "cell_type": "code",
   "execution_count": 3,
   "id": "98d5e38c",
   "metadata": {},
   "outputs": [],
   "source": [
    "import pandas as pd\n",
    "pd.set_option('display.max_columns', None)"
   ]
  },
  {
   "cell_type": "code",
   "execution_count": 6,
   "id": "c7654c68",
   "metadata": {},
   "outputs": [
    {
     "data": {
      "text/html": [
       "<div>\n",
       "<style scoped>\n",
       "    .dataframe tbody tr th:only-of-type {\n",
       "        vertical-align: middle;\n",
       "    }\n",
       "\n",
       "    .dataframe tbody tr th {\n",
       "        vertical-align: top;\n",
       "    }\n",
       "\n",
       "    .dataframe thead th {\n",
       "        text-align: right;\n",
       "    }\n",
       "</style>\n",
       "<table border=\"1\" class=\"dataframe\">\n",
       "  <thead>\n",
       "    <tr style=\"text-align: right;\">\n",
       "      <th></th>\n",
       "      <th>subject_label</th>\n",
       "      <th>ICD_Code</th>\n",
       "      <th>diseaseId</th>\n",
       "      <th>targetId</th>\n",
       "      <th>score</th>\n",
       "      <th>evidenceCount</th>\n",
       "      <th>Gene</th>\n",
       "      <th>biotype</th>\n",
       "      <th>targetClass</th>\n",
       "      <th>proteinIds</th>\n",
       "      <th>Entry</th>\n",
       "      <th>Entry Name</th>\n",
       "      <th>Gene Names</th>\n",
       "      <th>Length</th>\n",
       "      <th>Sequence</th>\n",
       "      <th>EC number</th>\n",
       "      <th>Uniprot</th>\n",
       "      <th>Gene synonym</th>\n",
       "      <th>Ensembl</th>\n",
       "      <th>Target Class</th>\n",
       "      <th>FDA Approved</th>\n",
       "      <th>target_pref_name</th>\n",
       "      <th>protein_class_name</th>\n",
       "      <th>class_level</th>\n",
       "      <th>Level_1</th>\n",
       "      <th>Level_2</th>\n",
       "      <th>Level_3</th>\n",
       "      <th>Level_4</th>\n",
       "      <th>Level_5</th>\n",
       "      <th>Level_6</th>\n",
       "      <th>Level_7</th>\n",
       "      <th>uniprot</th>\n",
       "    </tr>\n",
       "  </thead>\n",
       "  <tbody>\n",
       "    <tr>\n",
       "      <th>0</th>\n",
       "      <td>Parkinson disease</td>\n",
       "      <td>G20</td>\n",
       "      <td>MONDO_0005180</td>\n",
       "      <td>ENSG00000004779</td>\n",
       "      <td>0.121586</td>\n",
       "      <td>1</td>\n",
       "      <td>NDUFAB1</td>\n",
       "      <td>protein_coding</td>\n",
       "      <td>[{'id': 10, 'label': 'Enzyme', 'level': 'l1'}\\...</td>\n",
       "      <td>[{'id': 'O14561', 'source': 'uniprot_swissprot...</td>\n",
       "      <td>O14561</td>\n",
       "      <td>ACPM_HUMAN</td>\n",
       "      <td>NDUFAB1</td>\n",
       "      <td>156.0</td>\n",
       "      <td>MASRVLSAYVSRLPAAFAPLPRVRMLAVARPLSTALCSAGTQTRLG...</td>\n",
       "      <td>NaN</td>\n",
       "      <td>O14561</td>\n",
       "      <td>ACP, ACP1, FASN2A, SDAP</td>\n",
       "      <td>ENSG00000004779</td>\n",
       "      <td>Other</td>\n",
       "      <td>No</td>\n",
       "      <td>Mitochondrial complex I (NADH dehydrogenase)</td>\n",
       "      <td>Oxidoreductase</td>\n",
       "      <td>2.0</td>\n",
       "      <td>Protein class</td>\n",
       "      <td>Enzyme</td>\n",
       "      <td>Oxidoreductase</td>\n",
       "      <td>NaN</td>\n",
       "      <td>NaN</td>\n",
       "      <td>NaN</td>\n",
       "      <td>NaN</td>\n",
       "      <td>O14561</td>\n",
       "    </tr>\n",
       "    <tr>\n",
       "      <th>1</th>\n",
       "      <td>Parkinson disease</td>\n",
       "      <td>G20</td>\n",
       "      <td>MONDO_0005180</td>\n",
       "      <td>ENSG00000005381</td>\n",
       "      <td>0.158737</td>\n",
       "      <td>3</td>\n",
       "      <td>MPO</td>\n",
       "      <td>protein_coding</td>\n",
       "      <td>[{'id': 10, 'label': 'Enzyme', 'level': 'l1'}\\...</td>\n",
       "      <td>[{'id': 'P05164', 'source': 'uniprot_swissprot...</td>\n",
       "      <td>P05164</td>\n",
       "      <td>PERM_HUMAN</td>\n",
       "      <td>MPO</td>\n",
       "      <td>745.0</td>\n",
       "      <td>MGVPFFSSLRCMVDLGPCWAGGLTAEMKLLLALAGLLAILATPQPS...</td>\n",
       "      <td>1.11.2.2</td>\n",
       "      <td>P05164</td>\n",
       "      <td>NaN</td>\n",
       "      <td>ENSG00000005381</td>\n",
       "      <td>Enzyme</td>\n",
       "      <td>No</td>\n",
       "      <td>Myeloperoxidase</td>\n",
       "      <td>Oxidoreductase</td>\n",
       "      <td>2.0</td>\n",
       "      <td>Protein class</td>\n",
       "      <td>Enzyme</td>\n",
       "      <td>Oxidoreductase</td>\n",
       "      <td>NaN</td>\n",
       "      <td>NaN</td>\n",
       "      <td>NaN</td>\n",
       "      <td>NaN</td>\n",
       "      <td>P05164</td>\n",
       "    </tr>\n",
       "  </tbody>\n",
       "</table>\n",
       "</div>"
      ],
      "text/plain": [
       "       subject_label ICD_Code      diseaseId         targetId     score  \\\n",
       "0  Parkinson disease      G20  MONDO_0005180  ENSG00000004779  0.121586   \n",
       "1  Parkinson disease      G20  MONDO_0005180  ENSG00000005381  0.158737   \n",
       "\n",
       "   evidenceCount     Gene         biotype  \\\n",
       "0              1  NDUFAB1  protein_coding   \n",
       "1              3      MPO  protein_coding   \n",
       "\n",
       "                                         targetClass  \\\n",
       "0  [{'id': 10, 'label': 'Enzyme', 'level': 'l1'}\\...   \n",
       "1  [{'id': 10, 'label': 'Enzyme', 'level': 'l1'}\\...   \n",
       "\n",
       "                                          proteinIds   Entry  Entry Name  \\\n",
       "0  [{'id': 'O14561', 'source': 'uniprot_swissprot...  O14561  ACPM_HUMAN   \n",
       "1  [{'id': 'P05164', 'source': 'uniprot_swissprot...  P05164  PERM_HUMAN   \n",
       "\n",
       "  Gene Names  Length                                           Sequence  \\\n",
       "0    NDUFAB1   156.0  MASRVLSAYVSRLPAAFAPLPRVRMLAVARPLSTALCSAGTQTRLG...   \n",
       "1        MPO   745.0  MGVPFFSSLRCMVDLGPCWAGGLTAEMKLLLALAGLLAILATPQPS...   \n",
       "\n",
       "  EC number Uniprot             Gene synonym          Ensembl Target Class  \\\n",
       "0       NaN  O14561  ACP, ACP1, FASN2A, SDAP  ENSG00000004779        Other   \n",
       "1  1.11.2.2  P05164                      NaN  ENSG00000005381       Enzyme   \n",
       "\n",
       "  FDA Approved                              target_pref_name  \\\n",
       "0           No  Mitochondrial complex I (NADH dehydrogenase)   \n",
       "1           No                               Myeloperoxidase   \n",
       "\n",
       "  protein_class_name  class_level        Level_1 Level_2         Level_3  \\\n",
       "0     Oxidoreductase          2.0  Protein class  Enzyme  Oxidoreductase   \n",
       "1     Oxidoreductase          2.0  Protein class  Enzyme  Oxidoreductase   \n",
       "\n",
       "  Level_4 Level_5 Level_6 Level_7 uniprot  \n",
       "0     NaN     NaN     NaN     NaN  O14561  \n",
       "1     NaN     NaN     NaN     NaN  P05164  "
      ]
     },
     "execution_count": 6,
     "metadata": {},
     "output_type": "execute_result"
    }
   ],
   "source": [
    "pkd_target = pd.read_csv('pkd_target_disease_sequence_class_chembl.csv')\n",
    "pkd_target.head(2)"
   ]
  },
  {
   "cell_type": "code",
   "execution_count": 1,
   "id": "b8fc4055",
   "metadata": {},
   "outputs": [],
   "source": [
    "# 'score', 'Gene', 'Target Class', 'FDA Approved'"
   ]
  },
  {
   "cell_type": "code",
   "execution_count": 7,
   "id": "724a7bb2",
   "metadata": {},
   "outputs": [
    {
     "data": {
      "text/plain": [
       "6463"
      ]
     },
     "execution_count": 7,
     "metadata": {},
     "output_type": "execute_result"
    }
   ],
   "source": [
    "pkd_target['Gene'].nunique()"
   ]
  },
  {
   "cell_type": "code",
   "execution_count": 9,
   "id": "ef706952",
   "metadata": {},
   "outputs": [
    {
     "data": {
      "text/plain": [
       "FDA Approved\n",
       "No              8088\n",
       "FDA Approved    2873\n",
       "Name: count, dtype: int64"
      ]
     },
     "execution_count": 9,
     "metadata": {},
     "output_type": "execute_result"
    }
   ],
   "source": [
    "pkd_target['FDA Approved'].value_counts()"
   ]
  },
  {
   "cell_type": "code",
   "execution_count": null,
   "id": "b7d45b0c",
   "metadata": {},
   "outputs": [],
   "source": []
  }
 ],
 "metadata": {
  "kernelspec": {
   "display_name": "ttdrug",
   "language": "python",
   "name": "python3"
  },
  "language_info": {
   "codemirror_mode": {
    "name": "ipython",
    "version": 3
   },
   "file_extension": ".py",
   "mimetype": "text/x-python",
   "name": "python",
   "nbconvert_exporter": "python",
   "pygments_lexer": "ipython3",
   "version": "3.12.2"
  }
 },
 "nbformat": 4,
 "nbformat_minor": 5
}
