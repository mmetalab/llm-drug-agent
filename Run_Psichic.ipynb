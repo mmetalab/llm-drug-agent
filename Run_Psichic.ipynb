{
 "cells": [
  {
   "cell_type": "code",
   "execution_count": null,
   "id": "e21a9000",
   "metadata": {},
   "outputs": [],
   "source": [
    "# Process the BindDB dataset to create a simplified DataFrame\n",
    "bind_psichic = bind_db[['Target', 'Drug']]\n",
    "# Rename columns for consistency\n",
    "bind_psichic.rename(columns={'Drug': 'Ligand', 'Target': 'Protein'}, inplace=True)\n",
    "# Add a unique ID column\n",
    "bind_psichic['ID'] = 'Bind' + bind_psichic.index.astype(str)\n",
    "\n",
    "# Reorder columns for better readability\n",
    "bind_psichic = bind_psichic[['ID', 'Protein', 'Ligand']]\n",
    "# Display the first few rows of the processed DataFrame\n",
    "bind_psichic.head()"
   ]
  },
  {
   "cell_type": "code",
   "execution_count": null,
   "id": "42fc54da",
   "metadata": {},
   "outputs": [],
   "source": [
    "# Save the processed BindDB dataset to a CSV file\n",
    "bind_psichic.to_csv('D:\\Drugllm\\Bind_Psichic.csv', index=False)"
   ]
  },
  {
   "cell_type": "code",
   "execution_count": null,
   "id": "91175c50",
   "metadata": {},
   "outputs": [],
   "source": [
    "# Process the Kiba dataset to create a simplified DataFrame\n",
    "kiba_psichic = kiba_db[['Target', 'Drug']]\n",
    "# Rename columns for consistency\n",
    "kiba_psichic.rename(columns={'Drug': 'Ligand', 'Target': 'Protein'}, inplace=True)\n",
    "# Add a unique ID column\n",
    "kiba_psichic['ID'] = 'Kiba' + kiba_psichic.index.astype(str)\n",
    "\n",
    "# Reorder columns for better readability\n",
    "kiba_psichic = kiba_psichic[['ID', 'Protein', 'Ligand']]\n",
    "# Display the first few rows of the processed DataFrame\n",
    "kiba_psichic.head()"
   ]
  },
  {
   "cell_type": "code",
   "execution_count": null,
   "id": "3e295119",
   "metadata": {},
   "outputs": [],
   "source": [
    "# Save the processed Kiba dataset to a CSV file\n",
    "kiba_psichic.to_csv('D:\\Drugllm\\Kiba_Psichic.csv', index=False)"
   ]
  }
 ],
 "metadata": {
  "language_info": {
   "name": "python"
  }
 },
 "nbformat": 4,
 "nbformat_minor": 5
}
